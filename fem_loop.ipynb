{
 "cells": [
  {
   "cell_type": "code",
   "execution_count": 1,
   "id": "0081f019-d391-4a82-8311-c514162b5008",
   "metadata": {},
   "outputs": [],
   "source": [
    "import numpy as np\n",
    "import scipy\n",
    "import skfem    \n",
    "#https://scikit-fem.readthedocs.io/en/latest/index.html\n",
    "\n",
    "import matplotlib.pyplot as plt\n",
    "#import importlib  # for reloading routines\n",
    "%matplotlib inline\n"
   ]
  },
  {
   "cell_type": "markdown",
   "id": "87856644-eccb-4448-aadb-f18f9f2bd713",
   "metadata": {},
   "source": [
    "Solving the heat equation in 1 d on a periodic boundary with skfem\n",
    "$$\\partial_t u = D \\partial_{xx} u $$\n",
    "\n",
    "The weak form \n",
    "\\begin{align}\n",
    " \\int_\\Omega \\partial_t u v ds & = \\int_\\Omega D(\\partial_{xx} u) v ds  \\\\\n",
    " & = - \\int_\\Omega D (\\partial_s u) (\\partial_s v ) ds \n",
    " \\end{align}\n",
    "with $v \\in H^1$ where $H^1$ is a Sobolev space. \n",
    "I have dropped the boundary term when integrating by parts, because the space is periodic and so has no boundary."
   ]
  },
  {
   "cell_type": "code",
   "execution_count": 3,
   "id": "173bbf11-99cd-488f-9833-446d47a4e120",
   "metadata": {},
   "outputs": [],
   "source": [
    "# routines that we will need here\n",
    "from skfem.models.poisson import laplace, mass\n",
    "from scipy.sparse.linalg import splu"
   ]
  },
  {
   "cell_type": "code",
   "execution_count": 5,
   "id": "2bac214a-409f-421b-9454-5dad6263d61a",
   "metadata": {},
   "outputs": [],
   "source": [
    "npoints = 50 \n",
    "m1 = skfem.mesh.MeshLine(np.linspace(0, 2*np.pi, npoints))  # regular 1d mesh \n",
    "mp = skfem.mesh.MeshLine1DG.periodic(m1, [0], [npoints-1])  # a mesh for discontinous element problems, and made to be periodic\n",
    "# we seem to have a periodic mesh in 1d with theta going from 0 to 2 pi\n",
    "# however mp.p has almost (but not quite) twice as many points, which is kind of surprising"
   ]
  },
  {
   "cell_type": "code",
   "execution_count": 7,
   "id": "0e63c8c0-9f49-48aa-aeec-b79eff6059fb",
   "metadata": {},
   "outputs": [
    {
     "name": "stdout",
     "output_type": "stream",
     "text": [
      "(98,) (50,)\n"
     ]
    },
    {
     "data": {
      "image/png": "[encoded data removed]",
      "text/plain": [
       "<Figure size 640x480 with 1 Axes>"
      ]
     },
     "metadata": {},
     "output_type": "display_data"
    }
   ],
   "source": [
    "# interesting things about the discontinuous mesh we are using for the periodic system\n",
    "phi_m = np.squeeze(mp.p)\n",
    "phi = np.linspace(0, 2*np.pi, npoints) \n",
    "plt.plot(phi_m,'.')  # this is kind of weird, probably for doing Reiman solvers and things like that \n",
    "plt.plot(phi,'k-')\n",
    "print(phi_m.shape, phi.shape)"
   ]
  },
  {
   "cell_type": "code",
   "execution_count": 9,
   "id": "bacb1123-3ec4-4b18-8040-4ef228cb8f8c",
   "metadata": {},
   "outputs": [],
   "source": [
    "element = skfem.ElementLineP2()  # choose an element type  (or ElementLineP1)\n",
    "basis = skfem.Basis(mp, element)  # make a basis "
   ]
  },
  {
   "cell_type": "code",
   "execution_count": 11,
   "id": "13412df1-88bd-4dca-a8b6-483dc9aab0f8",
   "metadata": {},
   "outputs": [
    {
     "data": {
      "text/plain": [
       "array([0.12822827, 0.25645654, 0.38468481, 0.51291309, 0.64114136,\n",
       "       0.76936963, 0.8975979 , 1.02582617, 1.15405444, 1.28228272,\n",
       "       1.41051099, 1.53873926, 1.66696753, 1.7951958 , 1.92342407,\n",
       "       2.05165235, 2.17988062, 2.30810889, 2.43633716, 2.56456543,\n",
       "       2.6927937 , 2.82102197, 2.94925025, 3.07747852, 3.20570679,\n",
       "       3.33393506, 3.46216333, 3.5903916 , 3.71861988, 3.84684815,\n",
       "       3.97507642, 4.10330469, 4.23153296, 4.35976123, 4.48798951,\n",
       "       4.61621778, 4.74444605, 4.87267432, 5.00090259, 5.12913086,\n",
       "       5.25735913, 5.38558741, 5.51381568, 5.64204395, 5.77027222,\n",
       "       5.89850049, 6.02672876, 6.15495704, 6.28318531, 0.06411414,\n",
       "       0.19234241, 0.32057068, 0.44879895, 0.57702722, 0.70525549,\n",
       "       0.83348377, 0.96171204, 1.08994031, 1.21816858, 1.34639685,\n",
       "       1.47462512, 1.60285339, 1.73108167, 1.85930994, 1.98753821,\n",
       "       2.11576648, 2.24399475, 2.37222302, 2.5004513 , 2.62867957,\n",
       "       2.75690784, 2.88513611, 3.01336438, 3.14159265, 3.26982093,\n",
       "       3.3980492 , 3.52627747, 3.65450574, 3.78273401, 3.91096228,\n",
       "       4.03919055, 4.16741883, 4.2956471 , 4.42387537, 4.55210364,\n",
       "       4.68033191, 4.80856018, 4.93678846, 5.06501673, 5.193245  ,\n",
       "       5.32147327, 5.44970154, 5.57792981, 5.70615809, 5.83438636,\n",
       "       5.96261463, 6.0908429 , 6.21907117])"
      ]
     },
     "execution_count": 11,
     "metadata": {},
     "output_type": "execute_result"
    }
   ],
   "source": [
    "basis.doflocs[0]  # these seem to be phi values for the basis, and they repeat for some reason\n",
    "# this is what you need to use for phi values "
   ]
  },
  {
   "cell_type": "code",
   "execution_count": 29,
   "id": "f1e6236f-79bb-4ea4-a753-a22e8abe8cc8",
   "metadata": {},
   "outputs": [],
   "source": [
    "# create operators \n",
    "diffusivity = 1.0\n",
    "L = diffusivity * skfem.asm(laplace, basis)   # assemble Laplacian op\n",
    "M = skfem.asm(mass, basis)   # mass op for integrating \n",
    "dt = 0.01\n",
    "theta = 0.5  # Crank–Nicolson\n",
    "A = M + theta * L * dt  # note that L is an inner produc with a minus sign as given in the above weak form \n",
    "B = M - (1 - theta) * L * dt\n",
    "backsolve = splu(A.T).solve  # .T transpose as splu prefers CSC which is a particular sparse matrix format\n",
    "# this creates something like an inverse matrix \n",
    "# backsolve(B @ u) gives A^-1 (B u) but with LU decomp\n",
    "#   solve for x such that Ax = Bu computed using LU decomp of A\n",
    "# see https://en.wikipedia.org/wiki/LU_decomposition and \n",
    "# https://docs.scipy.org/doc/scipy-1.14.0/reference/generated/scipy.sparse.linalg.splu.html\n",
    "\n",
    "# take n integration steps \n",
    "# needed globals are B, dt\n",
    "def evolve(n,t,u):\n",
    "    for i in range(n):\n",
    "        t = t + dt\n",
    "        u =  backsolve(B @ u)\n",
    "    return t,u"
   ]
  },
  {
   "cell_type": "code",
   "execution_count": 31,
   "id": "5ece45fc-199f-4204-8d2c-7515d56c4d95",
   "metadata": {},
   "outputs": [
    {
     "name": "stdout",
     "output_type": "stream",
     "text": [
      "0.016442\n"
     ]
    }
   ],
   "source": [
    "# check our time step\n",
    "dphi = phi[1]- phi[0]\n",
    "ratio = dphi**2/diffusivity\n",
    "print('{:.3f}'.format(ratio) )\n",
    "# compare this to dt  (CFL like condition)"
   ]
  },
  {
   "cell_type": "markdown",
   "id": "77764d77-9a5e-40d8-a01d-eed124c152a2",
   "metadata": {},
   "source": [
    "The Crank-Nicolson step for the diffusive part for $\\partial_t u = F u  $  with $F$ a linear op is the following\n",
    "\\begin{align}\n",
    "\\partial_t u \\sim \\frac{u^{n+1} - u^n}{\\Delta t} = \\frac{1}{2} \\left(F u^{n+1} + F u^n\\right)\n",
    "\\end{align}\n",
    "\\begin{align}\n",
    "\\left( 1 - \\frac{ F}{2 \\Delta t} \\right) u^{n+1} = \\left(1 + \\frac{1}{2 \\Delta t} F\\right) u^n \\end{align}\n",
    "\\begin{align}\n",
    "u^{n+1} = \\left( 1 - \\frac{ F}{2 \\Delta t} \\right)^{-1} \\left(1 + \\frac{1}{2 \\Delta t} F\\right)u^n\n",
    "\\end{align}"
   ]
  },
  {
   "cell_type": "code",
   "execution_count": 33,
   "id": "5c724a87-6556-4388-b9d9-1999ceec24e7",
   "metadata": {},
   "outputs": [
    {
     "name": "stdout",
     "output_type": "stream",
     "text": [
      "(98,)\n"
     ]
    },
    {
     "data": {
      "image/png": "[encoded data removed]",
      "text/plain": [
       "<Figure size 640x480 with 1 Axes>"
      ]
     },
     "metadata": {},
     "output_type": "display_data"
    }
   ],
   "source": [
    "# make some initial conditions \n",
    "phi0 = np.pi/2\n",
    "sig2 = 0.2\n",
    "u_init = np.exp(-0.5 *(basis.doflocs[0] - phi0)**2/sig2)  \n",
    "plt.plot(basis.doflocs[0],u_init,'.')\n",
    "t=0.0\n",
    "u = u_init; \n",
    "n=10\n",
    "print(u.shape)"
   ]
  },
  {
   "cell_type": "code",
   "execution_count": 35,
   "id": "4048588e-9e97-4a0d-b407-c84072737c73",
   "metadata": {},
   "outputs": [
    {
     "data": {
      "text/plain": [
       "Text(0.5, 1.0, 't = 1.0')"
      ]
     },
     "execution_count": 35,
     "metadata": {},
     "output_type": "execute_result"
    },
    {
     "data": {
      "image/png": "[encoded data removed]",
      "text/plain": [
       "<Figure size 300x300 with 1 Axes>"
      ]
     },
     "metadata": {},
     "output_type": "display_data"
    }
   ],
   "source": [
    "# run a simulation of heat equation \n",
    "fig,ax = plt.subplots(1,1,figsize=(3,3))\n",
    "for j in range(10):\n",
    "    t,u = evolve(n,t,u)\n",
    "    ax.plot(basis.doflocs[0],u,'.',ms=1)\n",
    "tlabel = 't = {:.1f}'.format(t)\n",
    "ax.set_title(tlabel)\n",
    "    \n",
    "#print(t)"
   ]
  },
  {
   "cell_type": "code",
   "execution_count": null,
   "id": "37b00da9-8445-4eb0-9ead-a8b00845c50a",
   "metadata": {},
   "outputs": [],
   "source": [
    "# looks okay "
   ]
  },
  {
   "cell_type": "code",
   "execution_count": null,
   "id": "d76a5a05-a2e6-46a6-8f2a-d36a253fcb56",
   "metadata": {},
   "outputs": [],
   "source": []
  },
  {
   "cell_type": "markdown",
   "id": "8bf9cdc6-e7e3-482d-803c-d0c2ea9219ca",
   "metadata": {},
   "source": [
    "Now let's try to do the wave equation!  We can use similar operators and the same mesh\n",
    "\n",
    "Our equation of motion are \n",
    "$$ \\ddot u = c^2 \\partial_{xx} u $$\n",
    "or equivalently using a velocity variable,  \n",
    "\\begin{align}\n",
    "\\dot u &= v \\\\\n",
    "\\dot v &= c^2 \\partial_{xx} u \n",
    "\\end{align}\n",
    "\n",
    "I am building upon the following example https://github.com/kinnala/scikit-fem/blob/10.0.0/docs/examples/ex44.py\n"
   ]
  },
  {
   "cell_type": "code",
   "execution_count": 234,
   "id": "c19330e9-fa98-4729-b289-4eb82f5e5678",
   "metadata": {},
   "outputs": [],
   "source": [
    "npoints = 50 \n",
    "m1 = skfem.mesh.MeshLine(np.linspace(0, 2*np.pi, npoints))  # regular 1d mesh \n",
    "mp = skfem.mesh.MeshLine1DG.periodic(m1, [0], [npoints-1])  # a mesh for discontinous element problems, and made to be periodic\n",
    "element = skfem.ElementLineP2()  # choose an element type  (or ElementLineP1)\n",
    "basis = skfem.Basis(mp, element)  # make a basis "
   ]
  },
  {
   "cell_type": "code",
   "execution_count": 294,
   "id": "bc5c5642-3ba8-48cc-b470-10d4e2469c16",
   "metadata": {},
   "outputs": [
    {
     "name": "stdout",
     "output_type": "stream",
     "text": [
      "0.128\n"
     ]
    }
   ],
   "source": [
    "# using the same basis  as before\n",
    "N = basis.N\n",
    "L = skfem.asm(laplace,basis)\n",
    "M = skfem.asm(mass,basis)\n",
    "I = scipy.sparse.identity(N)\n",
    "\n",
    "c = 1.0   # speed of waves \n",
    "dt = .05\n",
    "\n",
    "# reduction to first order system in time\n",
    "A0 = skfem.bmat([[I, None],  # block matrix form for first u,v=dot u   \n",
    "           [None, M]], \"csc\")   # I don't understand why I and M on diag here, why not M,M?\n",
    "\n",
    "B0 = skfem.bmat([[None, I],\n",
    "           [-c ** 2 * L, None]], \"csc\")   # this makes sense as it is the operator in crank nicolson\n",
    "\n",
    "theta = 0.5  #crank nicolson\n",
    "A = A0 + theta * B0 * dt\n",
    "B = A0 - (1. - theta) * B0 * dt\n",
    "backsolve = splu(A).solve   # why no transpose here? probably because A0, B0 are \"csc\" format\n",
    "\n",
    "# timestepping, U is now containing two things  U=[u,v]\n",
    "# globals are B, dt\n",
    "def evolvew(n,t,U):\n",
    "    for i in range(n):\n",
    "        t = t + dt\n",
    "        U = backsolve(B @ U)\n",
    "    return t, U\n",
    "\n",
    "# check our time step\n",
    "dphi = phi[1]- phi[0]\n",
    "ratio = dphi/c  # should be in units of time \n",
    "print('{:.3f}'.format(ratio) )\n",
    "# compare this to dt (CFL like condition)"
   ]
  },
  {
   "cell_type": "code",
   "execution_count": 304,
   "id": "b6ee0749-b365-4243-bd54-871ddeff559c",
   "metadata": {},
   "outputs": [
    {
     "data": {
      "image/png": "[encoded data removed]",
      "text/plain": [
       "<Figure size 300x300 with 1 Axes>"
      ]
     },
     "metadata": {},
     "output_type": "display_data"
    }
   ],
   "source": [
    "# make some initial conditions \n",
    "phi0 = np.pi\n",
    "sig2 = 0.2\n",
    "u_init = np.exp(-0.5 *(basis.doflocs[0] - phi0)**2/sig2)    # we start with a positive position \n",
    "v_init = -c*u_init * (basis.doflocs[0] - phi0)/sig2  # take derivative for velocity \n",
    "U= np.concatenate((u_init, v_init))\n",
    "#plt.plot(basis.doflocs[0],v_init,'r.')  #velocity is red \n",
    "#plt.plot(basis.doflocs[0],u_init,'g.')  #position is green\n",
    "N = int(U.shape[0]/2)\n",
    "fig,ax = plt.subplots(1,1,figsize=(3,3))\n",
    "ax.plot(basis.doflocs[0],U[0:N],'g.',ms=1)   # position is green \n",
    "ax.plot(basis.doflocs[0],U[N:],'r.',ms=1)  #velocity is red \n",
    "t=0.0\n",
    "n=10\n",
    "#print(u.shape)\n",
    "\n",
    "# We need to differentiate our function and multiply it by c to get it to be a velocity of a moving pulse to the right. \n"
   ]
  },
  {
   "cell_type": "code",
   "execution_count": 306,
   "id": "1af541a7-a918-44a6-89cc-98156e096ca1",
   "metadata": {},
   "outputs": [
    {
     "data": {
      "text/plain": [
       "Text(0.5, 1.0, 't = 4.0')"
      ]
     },
     "execution_count": 306,
     "metadata": {},
     "output_type": "execute_result"
    },
    {
     "data": {
      "image/png": "[encoded data removed]",
      "text/plain": [
       "<Figure size 300x300 with 1 Axes>"
      ]
     },
     "metadata": {},
     "output_type": "display_data"
    }
   ],
   "source": [
    "\n",
    "# run a simulation of wave equation \n",
    "fig,ax = plt.subplots(1,1,figsize=(3,3))\n",
    "for j in range(8):\n",
    "    t,U = evolvew(n,t,U)\n",
    "    N = int(U.shape[0]/2)\n",
    "    \n",
    "    ax.plot(basis.doflocs[0],U[0:N],'g.',ms=1)\n",
    "    ax.plot(basis.doflocs[0],U[N:],'r.',ms=1)\n",
    "    ax.set_ylim([-2,2])\n",
    "tlabel = 't = {:.1f}'.format(t)\n",
    "ax.set_title(tlabel)\n",
    "    \n",
    "#print(t)"
   ]
  },
  {
   "cell_type": "code",
   "execution_count": null,
   "id": "6bff03c1-c038-42f9-ba3a-1efb9917f188",
   "metadata": {},
   "outputs": [],
   "source": [
    "# yay! it worked! "
   ]
  },
  {
   "cell_type": "markdown",
   "id": "610a6244-550e-424f-b3a6-59734974f1ad",
   "metadata": {},
   "source": [
    "\n",
    "Now trying to see if we can do a fourth order PDE on a loop \n",
    "I think we need the Hermite element"
   ]
  },
  {
   "cell_type": "code",
   "execution_count": 311,
   "id": "eaadeed2-e042-40cb-9069-524a3bceab9c",
   "metadata": {},
   "outputs": [
    {
     "ename": "LinAlgError",
     "evalue": "Singular matrix",
     "output_type": "error",
     "traceback": [
      "\u001b[0;31m---------------------------------------------------------------------------\u001b[0m",
      "\u001b[0;31mLinAlgError\u001b[0m                               Traceback (most recent call last)",
      "Cell \u001b[0;32mIn[311], line 6\u001b[0m\n\u001b[1;32m      3\u001b[0m mp \u001b[38;5;241m=\u001b[39m skfem\u001b[38;5;241m.\u001b[39mmesh\u001b[38;5;241m.\u001b[39mMeshLine1DG\u001b[38;5;241m.\u001b[39mperiodic(m1, [\u001b[38;5;241m0\u001b[39m], [npoints\u001b[38;5;241m-\u001b[39m\u001b[38;5;241m1\u001b[39m])  \u001b[38;5;66;03m# a mesh for discontinous element problems, and made to be periodic\u001b[39;00m\n\u001b[1;32m      5\u001b[0m elementg \u001b[38;5;241m=\u001b[39m skfem\u001b[38;5;241m.\u001b[39mElementLineHermite()  \u001b[38;5;66;03m# choose an element in Sobolev space H2\u001b[39;00m\n\u001b[0;32m----> 6\u001b[0m basis \u001b[38;5;241m=\u001b[39m skfem\u001b[38;5;241m.\u001b[39mBasis(mp, elementg)\n",
      "File \u001b[0;32m~/anaconda3/lib/python3.11/site-packages/skfem/assembly/basis/cell_basis.py:101\u001b[0m, in \u001b[0;36mCellBasis.__init__\u001b[0;34m(self, mesh, elem, mapping, intorder, elements, quadrature, dofs, disable_doflocs)\u001b[0m\n\u001b[1;32m     98\u001b[0m     \u001b[38;5;28mself\u001b[39m\u001b[38;5;241m.\u001b[39mtind \u001b[38;5;241m=\u001b[39m mesh\u001b[38;5;241m.\u001b[39mnormalize_elements(elements)\n\u001b[1;32m     99\u001b[0m     \u001b[38;5;28mself\u001b[39m\u001b[38;5;241m.\u001b[39mnelems \u001b[38;5;241m=\u001b[39m \u001b[38;5;28mlen\u001b[39m(\u001b[38;5;28mself\u001b[39m\u001b[38;5;241m.\u001b[39mtind)\n\u001b[0;32m--> 101\u001b[0m \u001b[38;5;28mself\u001b[39m\u001b[38;5;241m.\u001b[39mbasis \u001b[38;5;241m=\u001b[39m [\u001b[38;5;28mself\u001b[39m\u001b[38;5;241m.\u001b[39melem\u001b[38;5;241m.\u001b[39mgbasis(\u001b[38;5;28mself\u001b[39m\u001b[38;5;241m.\u001b[39mmapping, \u001b[38;5;28mself\u001b[39m\u001b[38;5;241m.\u001b[39mX, j, tind\u001b[38;5;241m=\u001b[39m\u001b[38;5;28mself\u001b[39m\u001b[38;5;241m.\u001b[39mtind)\n\u001b[1;32m    102\u001b[0m               \u001b[38;5;28;01mfor\u001b[39;00m j \u001b[38;5;129;01min\u001b[39;00m \u001b[38;5;28mrange\u001b[39m(\u001b[38;5;28mself\u001b[39m\u001b[38;5;241m.\u001b[39mNbfun)]\n\u001b[1;32m    104\u001b[0m \u001b[38;5;28mself\u001b[39m\u001b[38;5;241m.\u001b[39mdx \u001b[38;5;241m=\u001b[39m (np\u001b[38;5;241m.\u001b[39mabs(\u001b[38;5;28mself\u001b[39m\u001b[38;5;241m.\u001b[39mmapping\u001b[38;5;241m.\u001b[39mdetDF(\u001b[38;5;28mself\u001b[39m\u001b[38;5;241m.\u001b[39mX, tind\u001b[38;5;241m=\u001b[39m\u001b[38;5;28mself\u001b[39m\u001b[38;5;241m.\u001b[39mtind))\n\u001b[1;32m    105\u001b[0m            \u001b[38;5;241m*\u001b[39m np\u001b[38;5;241m.\u001b[39mbroadcast_to(\u001b[38;5;28mself\u001b[39m\u001b[38;5;241m.\u001b[39mW, (\u001b[38;5;28mself\u001b[39m\u001b[38;5;241m.\u001b[39mnelems, \u001b[38;5;28mself\u001b[39m\u001b[38;5;241m.\u001b[39mW\u001b[38;5;241m.\u001b[39mshape[\u001b[38;5;241m-\u001b[39m\u001b[38;5;241m1\u001b[39m])))\n\u001b[1;32m    106\u001b[0m logger\u001b[38;5;241m.\u001b[39minfo(\u001b[38;5;124m\"\u001b[39m\u001b[38;5;124mInitializing finished.\u001b[39m\u001b[38;5;124m\"\u001b[39m)\n",
      "File \u001b[0;32m~/anaconda3/lib/python3.11/site-packages/skfem/assembly/basis/cell_basis.py:101\u001b[0m, in \u001b[0;36m<listcomp>\u001b[0;34m(.0)\u001b[0m\n\u001b[1;32m     98\u001b[0m     \u001b[38;5;28mself\u001b[39m\u001b[38;5;241m.\u001b[39mtind \u001b[38;5;241m=\u001b[39m mesh\u001b[38;5;241m.\u001b[39mnormalize_elements(elements)\n\u001b[1;32m     99\u001b[0m     \u001b[38;5;28mself\u001b[39m\u001b[38;5;241m.\u001b[39mnelems \u001b[38;5;241m=\u001b[39m \u001b[38;5;28mlen\u001b[39m(\u001b[38;5;28mself\u001b[39m\u001b[38;5;241m.\u001b[39mtind)\n\u001b[0;32m--> 101\u001b[0m \u001b[38;5;28mself\u001b[39m\u001b[38;5;241m.\u001b[39mbasis \u001b[38;5;241m=\u001b[39m [\u001b[38;5;28mself\u001b[39m\u001b[38;5;241m.\u001b[39melem\u001b[38;5;241m.\u001b[39mgbasis(\u001b[38;5;28mself\u001b[39m\u001b[38;5;241m.\u001b[39mmapping, \u001b[38;5;28mself\u001b[39m\u001b[38;5;241m.\u001b[39mX, j, tind\u001b[38;5;241m=\u001b[39m\u001b[38;5;28mself\u001b[39m\u001b[38;5;241m.\u001b[39mtind)\n\u001b[1;32m    102\u001b[0m               \u001b[38;5;28;01mfor\u001b[39;00m j \u001b[38;5;129;01min\u001b[39;00m \u001b[38;5;28mrange\u001b[39m(\u001b[38;5;28mself\u001b[39m\u001b[38;5;241m.\u001b[39mNbfun)]\n\u001b[1;32m    104\u001b[0m \u001b[38;5;28mself\u001b[39m\u001b[38;5;241m.\u001b[39mdx \u001b[38;5;241m=\u001b[39m (np\u001b[38;5;241m.\u001b[39mabs(\u001b[38;5;28mself\u001b[39m\u001b[38;5;241m.\u001b[39mmapping\u001b[38;5;241m.\u001b[39mdetDF(\u001b[38;5;28mself\u001b[39m\u001b[38;5;241m.\u001b[39mX, tind\u001b[38;5;241m=\u001b[39m\u001b[38;5;28mself\u001b[39m\u001b[38;5;241m.\u001b[39mtind))\n\u001b[1;32m    105\u001b[0m            \u001b[38;5;241m*\u001b[39m np\u001b[38;5;241m.\u001b[39mbroadcast_to(\u001b[38;5;28mself\u001b[39m\u001b[38;5;241m.\u001b[39mW, (\u001b[38;5;28mself\u001b[39m\u001b[38;5;241m.\u001b[39mnelems, \u001b[38;5;28mself\u001b[39m\u001b[38;5;241m.\u001b[39mW\u001b[38;5;241m.\u001b[39mshape[\u001b[38;5;241m-\u001b[39m\u001b[38;5;241m1\u001b[39m])))\n\u001b[1;32m    106\u001b[0m logger\u001b[38;5;241m.\u001b[39minfo(\u001b[38;5;124m\"\u001b[39m\u001b[38;5;124mInitializing finished.\u001b[39m\u001b[38;5;124m\"\u001b[39m)\n",
      "File \u001b[0;32m~/anaconda3/lib/python3.11/site-packages/skfem/element/element_global.py:28\u001b[0m, in \u001b[0;36mElementGlobal.gbasis\u001b[0;34m(self, mapping, X, i, tind)\u001b[0m\n\u001b[1;32m     23\u001b[0m     \u001b[38;5;28mself\u001b[39m\u001b[38;5;241m.\u001b[39m_pbasis_init(\u001b[38;5;28mself\u001b[39m\u001b[38;5;241m.\u001b[39mmaxdeg,\n\u001b[1;32m     24\u001b[0m                       \u001b[38;5;28mself\u001b[39m\u001b[38;5;241m.\u001b[39mdim,\n\u001b[1;32m     25\u001b[0m                       \u001b[38;5;28mself\u001b[39m\u001b[38;5;241m.\u001b[39mderivatives,\n\u001b[1;32m     26\u001b[0m                       \u001b[38;5;28mself\u001b[39m\u001b[38;5;241m.\u001b[39mtensorial_basis)\n\u001b[1;32m     27\u001b[0m     \u001b[38;5;66;03m# construct Vandermonde matrix and invert it\u001b[39;00m\n\u001b[0;32m---> 28\u001b[0m     \u001b[38;5;28mself\u001b[39m\u001b[38;5;241m.\u001b[39mV \u001b[38;5;241m=\u001b[39m np\u001b[38;5;241m.\u001b[39mlinalg\u001b[38;5;241m.\u001b[39minv(\u001b[38;5;28mself\u001b[39m\u001b[38;5;241m.\u001b[39m_eval_dofs(mapping\u001b[38;5;241m.\u001b[39mmesh))\n\u001b[1;32m     30\u001b[0m V \u001b[38;5;241m=\u001b[39m \u001b[38;5;28mself\u001b[39m\u001b[38;5;241m.\u001b[39mV[tind]\n\u001b[1;32m     32\u001b[0m x \u001b[38;5;241m=\u001b[39m mapping\u001b[38;5;241m.\u001b[39mF(X, tind\u001b[38;5;241m=\u001b[39mtind)\n",
      "File \u001b[0;32m<__array_function__ internals>:200\u001b[0m, in \u001b[0;36minv\u001b[0;34m(*args, **kwargs)\u001b[0m\n",
      "File \u001b[0;32m~/anaconda3/lib/python3.11/site-packages/numpy/linalg/linalg.py:538\u001b[0m, in \u001b[0;36minv\u001b[0;34m(a)\u001b[0m\n\u001b[1;32m    536\u001b[0m signature \u001b[38;5;241m=\u001b[39m \u001b[38;5;124m'\u001b[39m\u001b[38;5;124mD->D\u001b[39m\u001b[38;5;124m'\u001b[39m \u001b[38;5;28;01mif\u001b[39;00m isComplexType(t) \u001b[38;5;28;01melse\u001b[39;00m \u001b[38;5;124m'\u001b[39m\u001b[38;5;124md->d\u001b[39m\u001b[38;5;124m'\u001b[39m\n\u001b[1;32m    537\u001b[0m extobj \u001b[38;5;241m=\u001b[39m get_linalg_error_extobj(_raise_linalgerror_singular)\n\u001b[0;32m--> 538\u001b[0m ainv \u001b[38;5;241m=\u001b[39m _umath_linalg\u001b[38;5;241m.\u001b[39minv(a, signature\u001b[38;5;241m=\u001b[39msignature, extobj\u001b[38;5;241m=\u001b[39mextobj)\n\u001b[1;32m    539\u001b[0m \u001b[38;5;28;01mreturn\u001b[39;00m wrap(ainv\u001b[38;5;241m.\u001b[39mastype(result_t, copy\u001b[38;5;241m=\u001b[39m\u001b[38;5;28;01mFalse\u001b[39;00m))\n",
      "File \u001b[0;32m~/anaconda3/lib/python3.11/site-packages/numpy/linalg/linalg.py:89\u001b[0m, in \u001b[0;36m_raise_linalgerror_singular\u001b[0;34m(err, flag)\u001b[0m\n\u001b[1;32m     88\u001b[0m \u001b[38;5;28;01mdef\u001b[39;00m \u001b[38;5;21m_raise_linalgerror_singular\u001b[39m(err, flag):\n\u001b[0;32m---> 89\u001b[0m     \u001b[38;5;28;01mraise\u001b[39;00m LinAlgError(\u001b[38;5;124m\"\u001b[39m\u001b[38;5;124mSingular matrix\u001b[39m\u001b[38;5;124m\"\u001b[39m)\n",
      "\u001b[0;31mLinAlgError\u001b[0m: Singular matrix"
     ]
    }
   ],
   "source": [
    "npoints = 50 \n",
    "m1 = skfem.mesh.MeshLine(np.linspace(0, 2*np.pi, npoints))  # regular 1d mesh \n",
    "mp = skfem.mesh.MeshLine1DG.periodic(m1, [0], [npoints-1])  # a mesh for discontinous element problems, and made to be periodic\n",
    " \n",
    "elementg = skfem.ElementLineHermite()  # choose an element in Sobolev space H2\n",
    "basis = skfem.Basis(mp, elementg)  # make a basis "
   ]
  },
  {
   "cell_type": "code",
   "execution_count": null,
   "id": "9665cea7-54b2-4005-8006-ebfcab85c6ed",
   "metadata": {},
   "outputs": [],
   "source": []
  },
  {
   "cell_type": "code",
   "execution_count": null,
   "id": "533e5e94-078d-4c54-9896-cd82e819dc2a",
   "metadata": {},
   "outputs": [],
   "source": []
  },
  {
   "cell_type": "markdown",
   "id": "874bd9e9-9e5b-4b78-adb5-37389af131af",
   "metadata": {},
   "source": [
    "Examples of making your own mesh with points and a Delaunay triangulation\n",
    "https://github.com/kinnala/scikit-fem/discussions/705\n",
    "\n"
   ]
  },
  {
   "cell_type": "code",
   "execution_count": 148,
   "id": "562a852e-e9ab-45b7-8b22-375d41b67f74",
   "metadata": {},
   "outputs": [],
   "source": []
  },
  {
   "cell_type": "code",
   "execution_count": 152,
   "id": "3fff42ed-fba0-407d-b7cd-6ae45c3d8b46",
   "metadata": {},
   "outputs": [],
   "source": []
  },
  {
   "cell_type": "code",
   "execution_count": null,
   "id": "76f5df32-9599-4ace-b1b9-a895886e0a45",
   "metadata": {},
   "outputs": [],
   "source": []
  }
 ],
 "metadata": {
  "kernelspec": {
   "display_name": "Python 3 (ipykernel)",
   "language": "python",
   "name": "python3"
  },
  "language_info": {
   "codemirror_mode": {
    "name": "ipython",
    "version": 3
   },
   "file_extension": ".py",
   "mimetype": "text/x-python",
   "name": "python",
   "nbconvert_exporter": "python",
   "pygments_lexer": "ipython3",
   "version": "3.11.9"
  }
 },
 "nbformat": 4,
 "nbformat_minor": 5
}
